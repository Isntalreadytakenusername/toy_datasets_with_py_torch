{
 "cells": [
  {
   "cell_type": "code",
   "execution_count": 1,
   "metadata": {},
   "outputs": [],
   "source": [
    "from sklearn.datasets import fetch_california_housing\n",
    "housing = fetch_california_housing()"
   ]
  },
  {
   "cell_type": "code",
   "execution_count": 2,
   "metadata": {},
   "outputs": [],
   "source": [
    "import numpy as np\n",
    "import torch\n",
    "import torch.nn as nn\n",
    "import torch.optim as optim\n",
    "from sklearn import datasets\n",
    "from sklearn.model_selection import train_test_split\n",
    "from sklearn.preprocessing import StandardScaler"
   ]
  },
  {
   "cell_type": "code",
   "execution_count": 7,
   "metadata": {},
   "outputs": [
    {
     "data": {
      "text/plain": [
       "array([[   8.3252    ,   41.        ,    6.98412698, ...,    2.55555556,\n",
       "          37.88      , -122.23      ],\n",
       "       [   8.3014    ,   21.        ,    6.23813708, ...,    2.10984183,\n",
       "          37.86      , -122.22      ],\n",
       "       [   7.2574    ,   52.        ,    8.28813559, ...,    2.80225989,\n",
       "          37.85      , -122.24      ],\n",
       "       ...,\n",
       "       [   1.7       ,   17.        ,    5.20554273, ...,    2.3256351 ,\n",
       "          39.43      , -121.22      ],\n",
       "       [   1.8672    ,   18.        ,    5.32951289, ...,    2.12320917,\n",
       "          39.43      , -121.32      ],\n",
       "       [   2.3886    ,   16.        ,    5.25471698, ...,    2.61698113,\n",
       "          39.37      , -121.24      ]])"
      ]
     },
     "execution_count": 7,
     "metadata": {},
     "output_type": "execute_result"
    }
   ],
   "source": [
    "housing.data"
   ]
  },
  {
   "cell_type": "code",
   "execution_count": 10,
   "metadata": {},
   "outputs": [
    {
     "data": {
      "text/plain": [
       "array([4.526, 3.585, 3.521, ..., 0.923, 0.847, 0.894])"
      ]
     },
     "execution_count": 10,
     "metadata": {},
     "output_type": "execute_result"
    }
   ],
   "source": [
    "housing.target"
   ]
  },
  {
   "cell_type": "code",
   "execution_count": 11,
   "metadata": {},
   "outputs": [],
   "source": [
    "data = torch.tensor(housing.data, dtype=torch.float32)\n",
    "target = torch.tensor(housing.target, dtype=torch.float32)"
   ]
  },
  {
   "cell_type": "code",
   "execution_count": 12,
   "metadata": {},
   "outputs": [],
   "source": [
    "# divide data into training and test sets\n",
    "x_train, x_test, y_train, y_test = train_test_split(data, target, test_size=0.1, random_state=42)"
   ]
  },
  {
   "cell_type": "code",
   "execution_count": 13,
   "metadata": {},
   "outputs": [],
   "source": [
    "# create scaler\n",
    "scaler = StandardScaler()\n",
    "x_train = scaler.fit_transform(x_train)\n",
    "x_test = scaler.transform(x_test)\n"
   ]
  },
  {
   "cell_type": "code",
   "execution_count": 15,
   "metadata": {},
   "outputs": [],
   "source": [
    "# create dataloaders\n",
    "trainloader = torch.utils.data.DataLoader(list(zip(x_train, y_train)), batch_size=64, shuffle=True)\n",
    "testloader = torch.utils.data.DataLoader(list(zip(x_test, y_test)), batch_size=64, shuffle=True)"
   ]
  },
  {
   "cell_type": "code",
   "execution_count": 16,
   "metadata": {},
   "outputs": [],
   "source": [
    "#create model with nn.Sequential\n",
    "model = nn.Sequential()\n",
    "model.add_module('linear_1', nn.Linear(8, 16))\n",
    "model.add_module('relu_1', nn.ReLU())\n",
    "model.add_module('linear_2', nn.Linear(16, 1))\n"
   ]
  },
  {
   "cell_type": "code",
   "execution_count": 21,
   "metadata": {},
   "outputs": [],
   "source": [
    "loss_fn = nn.MSELoss()\n",
    "optimizer = optim.Adam(model.parameters(), lr=1e-3)\n",
    "epoch_size = 64"
   ]
  },
  {
   "cell_type": "code",
   "execution_count": 26,
   "metadata": {},
   "outputs": [],
   "source": [
    "def train_regression(model, num_epochs, train_dl, valid_dl, loss_fn, optimizer):\n",
    "    loss_hist_train = [0] * num_epochs\n",
    "    loss_hist_valid = [0] * num_epochs\n",
    "\n",
    "    for epoch in range(num_epochs):\n",
    "        model.train()\n",
    "        for x_batch, y_batch in train_dl:\n",
    "            pred = model(x_batch.float())[:, 0]\n",
    "            loss = loss_fn(pred, y_batch.float())\n",
    "            loss.backward()\n",
    "            optimizer.step()\n",
    "            optimizer.zero_grad()\n",
    "            loss_hist_train[epoch] += loss.item()*y_batch.size(0)\n",
    "\n",
    "        loss_hist_train[epoch] /= len(train_dl.dataset)\n",
    "\n",
    "        model.eval()\n",
    "        with torch.no_grad():\n",
    "            for x_batch, y_batch in valid_dl:\n",
    "                pred = model(x_batch.float())[:, 0]\n",
    "                loss = loss_fn(pred, y_batch.float())\n",
    "                loss_hist_valid[epoch] += loss.item()*y_batch.size(0)\n",
    "\n",
    "        loss_hist_valid[epoch] /= len(valid_dl.dataset)\n",
    "        \n",
    "        print(f'Epoch {epoch+1} MSE: {loss_hist_train[epoch]:.4f} val_MSE: {loss_hist_valid[epoch]:.4f}')\n",
    "    return loss_hist_train, loss_hist_valid"
   ]
  },
  {
   "cell_type": "code",
   "execution_count": 20,
   "metadata": {},
   "outputs": [],
   "source": [
    "import matplotlib.pyplot as plt\n",
    "\n",
    "def plot_loss(train_loss, valid_loss, num_epochs):\n",
    "    epochs = range(1, num_epochs + 1)\n",
    "    \n",
    "    plt.plot(epochs, train_loss, label='Training Loss', marker='o')\n",
    "    plt.plot(epochs, valid_loss, label='Validation Loss', marker='o')\n",
    "    \n",
    "    plt.xlabel('Epochs')\n",
    "    plt.ylabel('Loss')\n",
    "    plt.legend()\n",
    "    plt.title('Training and Validation Loss')\n",
    "    plt.grid()\n",
    "    \n",
    "    plt.show()"
   ]
  },
  {
   "cell_type": "code",
   "execution_count": 27,
   "metadata": {},
   "outputs": [
    {
     "name": "stdout",
     "output_type": "stream",
     "text": [
      "Epoch 1 MSE: 2.1961 val_MSE: 0.8470\n",
      "Epoch 2 MSE: 0.7254 val_MSE: 0.6388\n",
      "Epoch 3 MSE: 0.5602 val_MSE: 0.5324\n",
      "Epoch 4 MSE: 0.4820 val_MSE: 0.4785\n",
      "Epoch 5 MSE: 0.4462 val_MSE: 0.4534\n",
      "Epoch 6 MSE: 0.4283 val_MSE: 0.4494\n",
      "Epoch 7 MSE: 0.4179 val_MSE: 0.4391\n",
      "Epoch 8 MSE: 0.4123 val_MSE: 0.4328\n",
      "Epoch 9 MSE: 0.4060 val_MSE: 0.4278\n",
      "Epoch 10 MSE: 0.4024 val_MSE: 0.4284\n",
      "Epoch 11 MSE: 0.3994 val_MSE: 0.4231\n",
      "Epoch 12 MSE: 0.3964 val_MSE: 0.4182\n",
      "Epoch 13 MSE: 0.3949 val_MSE: 0.4155\n",
      "Epoch 14 MSE: 0.3933 val_MSE: 0.4180\n",
      "Epoch 15 MSE: 0.3885 val_MSE: 0.4134\n",
      "Epoch 16 MSE: 0.3869 val_MSE: 0.4096\n",
      "Epoch 17 MSE: 0.3853 val_MSE: 0.4080\n",
      "Epoch 18 MSE: 0.3838 val_MSE: 0.4095\n",
      "Epoch 19 MSE: 0.3821 val_MSE: 0.4075\n",
      "Epoch 20 MSE: 0.3805 val_MSE: 0.4029\n",
      "Epoch 21 MSE: 0.3789 val_MSE: 0.4020\n",
      "Epoch 22 MSE: 0.3769 val_MSE: 0.4034\n",
      "Epoch 23 MSE: 0.3762 val_MSE: 0.3982\n",
      "Epoch 24 MSE: 0.3739 val_MSE: 0.3968\n",
      "Epoch 25 MSE: 0.3727 val_MSE: 0.3960\n",
      "Epoch 26 MSE: 0.3713 val_MSE: 0.3993\n",
      "Epoch 27 MSE: 0.3707 val_MSE: 0.3917\n",
      "Epoch 28 MSE: 0.3688 val_MSE: 0.3908\n",
      "Epoch 29 MSE: 0.3671 val_MSE: 0.3904\n",
      "Epoch 30 MSE: 0.3662 val_MSE: 0.3907\n",
      "Epoch 31 MSE: 0.3646 val_MSE: 0.3897\n",
      "Epoch 32 MSE: 0.3637 val_MSE: 0.3878\n",
      "Epoch 33 MSE: 0.3619 val_MSE: 0.3868\n",
      "Epoch 34 MSE: 0.3611 val_MSE: 0.3851\n",
      "Epoch 35 MSE: 0.3594 val_MSE: 0.3807\n",
      "Epoch 36 MSE: 0.3573 val_MSE: 0.3818\n",
      "Epoch 37 MSE: 0.3563 val_MSE: 0.3861\n",
      "Epoch 38 MSE: 0.3555 val_MSE: 0.3785\n",
      "Epoch 39 MSE: 0.3554 val_MSE: 0.3787\n",
      "Epoch 40 MSE: 0.3520 val_MSE: 0.3737\n",
      "Epoch 41 MSE: 0.3503 val_MSE: 0.3715\n",
      "Epoch 42 MSE: 0.3488 val_MSE: 0.3729\n",
      "Epoch 43 MSE: 0.3474 val_MSE: 0.3719\n",
      "Epoch 44 MSE: 0.3465 val_MSE: 0.3722\n",
      "Epoch 45 MSE: 0.3460 val_MSE: 0.3682\n",
      "Epoch 46 MSE: 0.3449 val_MSE: 0.3703\n",
      "Epoch 47 MSE: 0.3433 val_MSE: 0.3727\n",
      "Epoch 48 MSE: 0.3427 val_MSE: 0.3679\n",
      "Epoch 49 MSE: 0.3419 val_MSE: 0.3659\n",
      "Epoch 50 MSE: 0.3411 val_MSE: 0.3680\n",
      "Epoch 51 MSE: 0.3401 val_MSE: 0.3654\n",
      "Epoch 52 MSE: 0.3395 val_MSE: 0.3659\n",
      "Epoch 53 MSE: 0.3390 val_MSE: 0.3645\n",
      "Epoch 54 MSE: 0.3379 val_MSE: 0.3639\n",
      "Epoch 55 MSE: 0.3377 val_MSE: 0.3638\n",
      "Epoch 56 MSE: 0.3361 val_MSE: 0.3638\n",
      "Epoch 57 MSE: 0.3368 val_MSE: 0.3636\n",
      "Epoch 58 MSE: 0.3364 val_MSE: 0.3606\n",
      "Epoch 59 MSE: 0.3362 val_MSE: 0.3607\n",
      "Epoch 60 MSE: 0.3343 val_MSE: 0.3588\n",
      "Epoch 61 MSE: 0.3348 val_MSE: 0.3629\n",
      "Epoch 62 MSE: 0.3334 val_MSE: 0.3616\n",
      "Epoch 63 MSE: 0.3329 val_MSE: 0.3580\n",
      "Epoch 64 MSE: 0.3324 val_MSE: 0.3572\n"
     ]
    }
   ],
   "source": [
    "train_loss, valid_loss = train_regression(model, epoch_size, trainloader, testloader, loss_fn, optimizer)"
   ]
  },
  {
   "cell_type": "code",
   "execution_count": 29,
   "metadata": {},
   "outputs": [
    {
     "data": {
      "image/png": "[encoded data removed]",
      "text/plain": [
       "<Figure size 432x288 with 1 Axes>"
      ]
     },
     "metadata": {
      "needs_background": "light"
     },
     "output_type": "display_data"
    }
   ],
   "source": [
    "plot_loss(train_loss, valid_loss, epoch_size)"
   ]
  },
  {
   "cell_type": "code",
   "execution_count": null,
   "metadata": {},
   "outputs": [],
   "source": []
  }
 ],
 "metadata": {
  "kernelspec": {
   "display_name": "Python 3",
   "language": "python",
   "name": "python3"
  },
  "language_info": {
   "codemirror_mode": {
    "name": "ipython",
    "version": 3
   },
   "file_extension": ".py",
   "mimetype": "text/x-python",
   "name": "python",
   "nbconvert_exporter": "python",
   "pygments_lexer": "ipython3",
   "version": "3.9.1"
  },
  "orig_nbformat": 4
 },
 "nbformat": 4,
 "nbformat_minor": 2
}
